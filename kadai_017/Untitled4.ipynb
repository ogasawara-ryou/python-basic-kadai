{
  "nbformat": 4,
  "nbformat_minor": 0,
  "metadata": {
    "colab": {
      "provenance": []
    },
    "kernelspec": {
      "name": "python3",
      "display_name": "Python 3"
    },
    "language_info": {
      "name": "python"
    }
  },
  "cells": [
    {
      "cell_type": "code",
      "execution_count": 29,
      "metadata": {
        "colab": {
          "base_uri": "https://localhost:8080/"
        },
        "id": "IfMO0ZnxKNJ4",
        "outputId": "cfc608da-6724-4d8e-f3f1-98cf1b7c7e6c"
      },
      "outputs": [
        {
          "output_type": "stream",
          "name": "stdout",
          "text": [
            "侍太郎 は大人である\n",
            "侍花子は大人でない\n",
            "侍二郎 は大人である\n"
          ]
        }
      ],
      "source": [
        "class Human:\n",
        "    # コンストラクタを定義する\n",
        "    def __init__(self, name, age):\n",
        "        self.name = name\n",
        "        self.age = age\n",
        "\n",
        "    def check_adult(self):\n",
        "\n",
        "        if 20 <= self.age:\n",
        "          return f\"{self.name} は大人である\"\n",
        "\n",
        "        else :\n",
        "          return f\"{self.name}は大人でない\"\n",
        "\n",
        "# インスタンス化する\n",
        "human1 = Human(\"侍太郎\", 36)\n",
        "human2 = Human(\"侍花子\", 18)\n",
        "human3 = Human(\"侍二郎\",20)\n",
        "\n",
        "# 属性にアクセスし、値を出力する\n",
        "human_list = [human1, human2 ,human3]\n",
        "\n",
        "for human in human_list:\n",
        "    print(human.check_adult())\n"
      ]
    }
  ]
}