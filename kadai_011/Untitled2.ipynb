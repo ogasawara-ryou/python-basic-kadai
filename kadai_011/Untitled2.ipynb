{
  "nbformat": 4,
  "nbformat_minor": 0,
  "metadata": {
    "colab": {
      "provenance": []
    },
    "kernelspec": {
      "name": "python3",
      "display_name": "Python 3"
    },
    "language_info": {
      "name": "python"
    }
  },
  "cells": [
    {
      "cell_type": "code",
      "execution_count": 1,
      "metadata": {
        "id": "Ue2VuKDKPDC5",
        "colab": {
          "base_uri": "https://localhost:8080/"
        },
        "outputId": "186ace82-f2fd-425c-de05-ef467bcd25fc"
      },
      "outputs": [
        {
          "output_type": "stream",
          "name": "stdout",
          "text": [
            "水\n",
            "金\n",
            "地\n",
            "火\n",
            "木\n",
            "土\n",
            "天\n",
            "海\n",
            "冥\n",
            "水\n",
            "金\n",
            "地\n",
            "火\n",
            "木\n",
            "土\n",
            "天\n",
            "海\n",
            "冥\n"
          ]
        }
      ],
      "source": [
        "array = [\"水\",\"金\",\"地\",\"火\",\"木\",\"土\",\"天\",\"海\",\"冥\"]\n",
        "\n",
        "for star in array:\n",
        "    print(star)\n",
        "\n",
        "i = 0\n",
        "while i in range(9):\n",
        "    print(array[i])\n",
        "    i += 1"
      ]
    }
  ]
}