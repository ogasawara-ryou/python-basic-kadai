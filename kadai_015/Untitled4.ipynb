{
  "nbformat": 4,
  "nbformat_minor": 0,
  "metadata": {
    "colab": {
      "provenance": []
    },
    "kernelspec": {
      "name": "python3",
      "display_name": "Python 3"
    },
    "language_info": {
      "name": "python"
    }
  },
  "cells": [
    {
      "cell_type": "code",
      "execution_count": 10,
      "metadata": {
        "colab": {
          "base_uri": "https://localhost:8080/"
        },
        "id": "IfMO0ZnxKNJ4",
        "outputId": "5762eb4f-c03d-4fa5-b8a6-6045b4131220"
      },
      "outputs": [
        {
          "output_type": "stream",
          "name": "stdout",
          "text": [
            "Name: 侍太郎,Age: 36\n"
          ]
        }
      ],
      "source": [
        "class Human:\n",
        "  def __init__(self, name , age):\n",
        "    self.name = name\n",
        "    self.age = age\n",
        "\n",
        "  def printinfo(self):\n",
        "    print(f\"Name: {self.name},Age: {self.age}\")\n",
        "\n",
        "human = Human(\"侍太郎\",36)\n",
        "\n",
        "human.printinfo()"
      ]
    }
  ]
}