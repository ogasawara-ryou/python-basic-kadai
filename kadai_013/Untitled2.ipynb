{
  "nbformat": 4,
  "nbformat_minor": 0,
  "metadata": {
    "colab": {
      "provenance": []
    },
    "kernelspec": {
      "name": "python3",
      "display_name": "Python 3"
    },
    "language_info": {
      "name": "python"
    }
  },
  "cells": [
    {
      "cell_type": "code",
      "execution_count": 12,
      "metadata": {
        "id": "Ue2VuKDKPDC5",
        "colab": {
          "base_uri": "https://localhost:8080/"
        },
        "outputId": "72dea49b-8933-49b6-f7e4-588df7ee1119"
      },
      "outputs": [
        {
          "output_type": "stream",
          "name": "stdout",
          "text": [
            "121.0円\n"
          ]
        }
      ],
      "source": [
        "def price_total(price,tax :int) -> int:\n",
        "    total = price + (price * (tax / 100))\n",
        "    print(f\"{total}円\")\n",
        "\n",
        "price_total(110,10)\n",
        "\n"
      ]
    }
  ]
}