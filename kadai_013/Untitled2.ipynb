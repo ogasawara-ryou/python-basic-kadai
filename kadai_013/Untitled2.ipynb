{
  "nbformat": 4,
  "nbformat_minor": 0,
  "metadata": {
    "colab": {
      "provenance": []
    },
    "kernelspec": {
      "name": "python3",
      "display_name": "Python 3"
    },
    "language_info": {
      "name": "python"
    }
  },
  "cells": [
    {
      "cell_type": "code",
      "execution_count": 17,
      "metadata": {
        "id": "Ue2VuKDKPDC5",
        "colab": {
          "base_uri": "https://localhost:8080/"
        },
        "outputId": "ab1f3426-b851-4f57-b2c4-b4c6e36545f1"
      },
      "outputs": [
        {
          "output_type": "stream",
          "name": "stdout",
          "text": [
            "121.0円\n"
          ]
        }
      ],
      "source": [
        "def calc_price_with_tax(price,tax :int) -> float:\n",
        "    return price + (price * (tax / 100))\n",
        "\n",
        "total =calc_price_with_tax(110,10)\n",
        "print(f\"{total}円\")\n",
        "\n",
        "\n"
      ]
    }
  ]
}