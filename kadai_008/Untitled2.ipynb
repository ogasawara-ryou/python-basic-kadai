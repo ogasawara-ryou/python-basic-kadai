{
  "nbformat": 4,
  "nbformat_minor": 0,
  "metadata": {
    "colab": {
      "provenance": []
    },
    "kernelspec": {
      "name": "python3",
      "display_name": "Python 3"
    },
    "language_info": {
      "name": "python"
    }
  },
  "cells": [
    {
      "cell_type": "code",
      "execution_count": 53,
      "metadata": {
        "id": "Ue2VuKDKPDC5",
        "colab": {
          "base_uri": "https://localhost:8080/"
        },
        "outputId": "38cf9c64-e222-47fe-da30-c821284203dd"
      },
      "outputs": [
        {
          "output_type": "stream",
          "name": "stdout",
          "text": [
            "74\n",
            "74\n"
          ]
        }
      ],
      "source": [
        "import random\n",
        "\n",
        "var = random.randint(1,100)\n",
        "\n",
        "print(var)\n",
        "\n",
        "if var%15 == 0:\n",
        "    print(\"FizzBuzz\")\n",
        "elif var%3 == 0:\n",
        "    print(\"Fizz\")\n",
        "elif var%5 == 0:\n",
        "    print(\"Buzz\")\n",
        "else:\n",
        "    print(var)"
      ]
    }
  ]
}