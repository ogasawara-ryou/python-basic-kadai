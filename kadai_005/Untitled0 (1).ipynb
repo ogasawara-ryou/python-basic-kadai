{
  "nbformat": 4,
  "nbformat_minor": 0,
  "metadata": {
    "colab": {
      "provenance": []
    },
    "kernelspec": {
      "name": "python3",
      "display_name": "Python 3"
    },
    "language_info": {
      "name": "python"
    }
  },
  "cells": [
    {
      "cell_type": "code",
      "source": [
        "up    =10\n",
        "down  =20\n",
        "hight =5\n",
        "answer=(up+down)*hight/2\n",
        "print(f\"{answer}cm²\")"
      ],
      "metadata": {
        "colab": {
          "base_uri": "https://localhost:8080/"
        },
        "id": "zge9R9UE9sg8",
        "outputId": "441a2a84-9eb9-43e8-d5f6-b4a1a2920983"
      },
      "execution_count": 17,
      "outputs": [
        {
          "output_type": "stream",
          "name": "stdout",
          "text": [
            "75.0cm²\n"
          ]
        }
      ]
    }
  ]
}